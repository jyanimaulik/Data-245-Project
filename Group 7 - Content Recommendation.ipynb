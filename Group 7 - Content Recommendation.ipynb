{
 "cells": [
  {
   "cell_type": "code",
   "execution_count": 1,
   "id": "3e456d83",
   "metadata": {
    "id": "3e456d83"
   },
   "outputs": [],
   "source": [
    "# Import necessary libraries\n",
    "import numpy as np\n",
    "import pandas as pd\n",
    "\n",
    "# Import Abstract Syntax Tree\n",
    "# Only evaluates literals and does not execute arbitrary code\n",
    "# Used to parse out the json string\n",
    "import ast\n",
    "\n",
    "# Natural Language Toolkit (NLTK)\n",
    "import nltk\n",
    "#PorterStemmer is a stemming algorithm that reduces words to their root or base form\n",
    "from nltk.stem.porter import PorterStemmer\n",
    "\n",
    "# tool for converting a collection of text documents to a matrix of token counts\n",
    "from sklearn.feature_extraction.text import CountVectorizer"
   ]
  },
  {
   "cell_type": "code",
   "execution_count": 2,
   "id": "54179d4c",
   "metadata": {
    "id": "54179d4c"
   },
   "outputs": [],
   "source": [
    "# Read the movies dataset\n",
    "movies = pd.read_csv('tmdb_5000_movies.csv')"
   ]
  },
  {
   "cell_type": "code",
   "execution_count": 3,
   "id": "a72fa2e8",
   "metadata": {
    "id": "a72fa2e8",
    "outputId": "083bc6ca-9914-4427-a088-4aa97e2d4947"
   },
   "outputs": [
    {
     "data": {
      "text/html": [
       "<div>\n",
       "<style scoped>\n",
       "    .dataframe tbody tr th:only-of-type {\n",
       "        vertical-align: middle;\n",
       "    }\n",
       "\n",
       "    .dataframe tbody tr th {\n",
       "        vertical-align: top;\n",
       "    }\n",
       "\n",
       "    .dataframe thead th {\n",
       "        text-align: right;\n",
       "    }\n",
       "</style>\n",
       "<table border=\"1\" class=\"dataframe\">\n",
       "  <thead>\n",
       "    <tr style=\"text-align: right;\">\n",
       "      <th></th>\n",
       "      <th>id</th>\n",
       "      <th>title</th>\n",
       "      <th>overview</th>\n",
       "      <th>genres</th>\n",
       "      <th>keywords</th>\n",
       "    </tr>\n",
       "  </thead>\n",
       "  <tbody>\n",
       "    <tr>\n",
       "      <th>0</th>\n",
       "      <td>19995</td>\n",
       "      <td>Avatar</td>\n",
       "      <td>In the 22nd century, a paraplegic Marine is di...</td>\n",
       "      <td>[{\"id\": 28, \"name\": \"Action\"}, {\"id\": 12, \"nam...</td>\n",
       "      <td>[{\"id\": 1463, \"name\": \"culture clash\"}, {\"id\":...</td>\n",
       "    </tr>\n",
       "  </tbody>\n",
       "</table>\n",
       "</div>"
      ],
      "text/plain": [
       "      id   title                                           overview  \\\n",
       "0  19995  Avatar  In the 22nd century, a paraplegic Marine is di...   \n",
       "\n",
       "                                              genres  \\\n",
       "0  [{\"id\": 28, \"name\": \"Action\"}, {\"id\": 12, \"nam...   \n",
       "\n",
       "                                            keywords  \n",
       "0  [{\"id\": 1463, \"name\": \"culture clash\"}, {\"id\":...  "
      ]
     },
     "execution_count": 3,
     "metadata": {},
     "output_type": "execute_result"
    }
   ],
   "source": [
    "# Select only the features required\n",
    "movies = movies[['id', 'title', 'overview', 'genres', 'keywords']]\n",
    "\n",
    "# List the first record\n",
    "movies.head(1)"
   ]
  },
  {
   "cell_type": "code",
   "execution_count": 4,
   "id": "cc8237f6",
   "metadata": {
    "id": "cc8237f6"
   },
   "outputs": [],
   "source": [
    "# Create a copy of the DataFrame using the copy() method, for data cleansing\n",
    "\n",
    "movies_copy = movies.copy()"
   ]
  },
  {
   "cell_type": "code",
   "execution_count": 5,
   "id": "f457b6af",
   "metadata": {
    "id": "f457b6af"
   },
   "outputs": [],
   "source": [
    "# Drop null values\n",
    "\n",
    "movies_copy.dropna(inplace=True)"
   ]
  },
  {
   "cell_type": "code",
   "execution_count": 6,
   "id": "f3b18db8",
   "metadata": {
    "id": "f3b18db8",
    "outputId": "5e7ba416-614f-4bde-99af-878898b649dc"
   },
   "outputs": [
    {
     "data": {
      "text/plain": [
       "'[{\"id\": 28, \"name\": \"Action\"}, {\"id\": 12, \"name\": \"Adventure\"}, {\"id\": 14, \"name\": \"Fantasy\"}, {\"id\": 878, \"name\": \"Science Fiction\"}]'"
      ]
     },
     "execution_count": 6,
     "metadata": {},
     "output_type": "execute_result"
    }
   ],
   "source": [
    "# Show the first record of genres, it is a json string with id and name\n",
    "\n",
    "movies_copy.iloc[0].genres"
   ]
  },
  {
   "cell_type": "markdown",
   "id": "a28ad6c5",
   "metadata": {
    "id": "a28ad6c5"
   },
   "source": [
    "## DATA PREPROCESSING"
   ]
  },
  {
   "cell_type": "markdown",
   "id": "162309d2",
   "metadata": {
    "id": "162309d2"
   },
   "source": [
    "### Select out only the name part from json string"
   ]
  },
  {
   "cell_type": "code",
   "execution_count": 7,
   "id": "f4046477",
   "metadata": {
    "id": "f4046477"
   },
   "outputs": [],
   "source": [
    "def convert(obj):\n",
    "    List = []\n",
    "    for i in ast.literal_eval(obj):\n",
    "        List.append(i['name'])\n",
    "    return List"
   ]
  },
  {
   "cell_type": "code",
   "execution_count": 8,
   "id": "963f20b4",
   "metadata": {
    "id": "963f20b4"
   },
   "outputs": [],
   "source": [
    "# Parse out the json by calling function\n",
    "\n",
    "movies_copy['genres'] = movies_copy['genres'].apply(convert)\n",
    "movies_copy['keywords'] = movies_copy['keywords'].apply(convert)"
   ]
  },
  {
   "cell_type": "code",
   "execution_count": 9,
   "id": "63e2701f",
   "metadata": {
    "id": "63e2701f",
    "outputId": "c87d3ef9-2f1f-415b-e2d3-442f079cd64c"
   },
   "outputs": [
    {
     "data": {
      "text/html": [
       "<div>\n",
       "<style scoped>\n",
       "    .dataframe tbody tr th:only-of-type {\n",
       "        vertical-align: middle;\n",
       "    }\n",
       "\n",
       "    .dataframe tbody tr th {\n",
       "        vertical-align: top;\n",
       "    }\n",
       "\n",
       "    .dataframe thead th {\n",
       "        text-align: right;\n",
       "    }\n",
       "</style>\n",
       "<table border=\"1\" class=\"dataframe\">\n",
       "  <thead>\n",
       "    <tr style=\"text-align: right;\">\n",
       "      <th></th>\n",
       "      <th>id</th>\n",
       "      <th>title</th>\n",
       "      <th>overview</th>\n",
       "      <th>genres</th>\n",
       "      <th>keywords</th>\n",
       "    </tr>\n",
       "  </thead>\n",
       "  <tbody>\n",
       "    <tr>\n",
       "      <th>0</th>\n",
       "      <td>19995</td>\n",
       "      <td>Avatar</td>\n",
       "      <td>In the 22nd century, a paraplegic Marine is di...</td>\n",
       "      <td>[Action, Adventure, Fantasy, Science Fiction]</td>\n",
       "      <td>[culture clash, future, space war, space colon...</td>\n",
       "    </tr>\n",
       "    <tr>\n",
       "      <th>1</th>\n",
       "      <td>285</td>\n",
       "      <td>Pirates of the Caribbean: At World's End</td>\n",
       "      <td>Captain Barbossa, long believed to be dead, ha...</td>\n",
       "      <td>[Adventure, Fantasy, Action]</td>\n",
       "      <td>[ocean, drug abuse, exotic island, east india ...</td>\n",
       "    </tr>\n",
       "    <tr>\n",
       "      <th>2</th>\n",
       "      <td>206647</td>\n",
       "      <td>Spectre</td>\n",
       "      <td>A cryptic message from Bond’s past sends him o...</td>\n",
       "      <td>[Action, Adventure, Crime]</td>\n",
       "      <td>[spy, based on novel, secret agent, sequel, mi...</td>\n",
       "    </tr>\n",
       "  </tbody>\n",
       "</table>\n",
       "</div>"
      ],
      "text/plain": [
       "       id                                     title  \\\n",
       "0   19995                                    Avatar   \n",
       "1     285  Pirates of the Caribbean: At World's End   \n",
       "2  206647                                   Spectre   \n",
       "\n",
       "                                            overview  \\\n",
       "0  In the 22nd century, a paraplegic Marine is di...   \n",
       "1  Captain Barbossa, long believed to be dead, ha...   \n",
       "2  A cryptic message from Bond’s past sends him o...   \n",
       "\n",
       "                                          genres  \\\n",
       "0  [Action, Adventure, Fantasy, Science Fiction]   \n",
       "1                   [Adventure, Fantasy, Action]   \n",
       "2                     [Action, Adventure, Crime]   \n",
       "\n",
       "                                            keywords  \n",
       "0  [culture clash, future, space war, space colon...  \n",
       "1  [ocean, drug abuse, exotic island, east india ...  \n",
       "2  [spy, based on novel, secret agent, sequel, mi...  "
      ]
     },
     "execution_count": 9,
     "metadata": {},
     "output_type": "execute_result"
    }
   ],
   "source": [
    "movies_copy.head(3)"
   ]
  },
  {
   "cell_type": "code",
   "execution_count": 10,
   "id": "5d885426",
   "metadata": {
    "id": "5d885426"
   },
   "outputs": [],
   "source": [
    "# Create the 'overview' feature as comma separated list\n",
    "\n",
    "movies_copy['overview'] = movies_copy['overview'].apply(lambda x:x.split())"
   ]
  },
  {
   "cell_type": "code",
   "execution_count": 11,
   "id": "31ac6e78",
   "metadata": {
    "id": "31ac6e78",
    "outputId": "c3e9e439-798d-46b0-c70e-0219b1559d78"
   },
   "outputs": [
    {
     "data": {
      "text/html": [
       "<div>\n",
       "<style scoped>\n",
       "    .dataframe tbody tr th:only-of-type {\n",
       "        vertical-align: middle;\n",
       "    }\n",
       "\n",
       "    .dataframe tbody tr th {\n",
       "        vertical-align: top;\n",
       "    }\n",
       "\n",
       "    .dataframe thead th {\n",
       "        text-align: right;\n",
       "    }\n",
       "</style>\n",
       "<table border=\"1\" class=\"dataframe\">\n",
       "  <thead>\n",
       "    <tr style=\"text-align: right;\">\n",
       "      <th></th>\n",
       "      <th>id</th>\n",
       "      <th>title</th>\n",
       "      <th>overview</th>\n",
       "      <th>genres</th>\n",
       "      <th>keywords</th>\n",
       "    </tr>\n",
       "  </thead>\n",
       "  <tbody>\n",
       "    <tr>\n",
       "      <th>0</th>\n",
       "      <td>19995</td>\n",
       "      <td>Avatar</td>\n",
       "      <td>[In, the, 22nd, century,, a, paraplegic, Marin...</td>\n",
       "      <td>[Action, Adventure, Fantasy, Science Fiction]</td>\n",
       "      <td>[culture clash, future, space war, space colon...</td>\n",
       "    </tr>\n",
       "    <tr>\n",
       "      <th>1</th>\n",
       "      <td>285</td>\n",
       "      <td>Pirates of the Caribbean: At World's End</td>\n",
       "      <td>[Captain, Barbossa,, long, believed, to, be, d...</td>\n",
       "      <td>[Adventure, Fantasy, Action]</td>\n",
       "      <td>[ocean, drug abuse, exotic island, east india ...</td>\n",
       "    </tr>\n",
       "    <tr>\n",
       "      <th>2</th>\n",
       "      <td>206647</td>\n",
       "      <td>Spectre</td>\n",
       "      <td>[A, cryptic, message, from, Bond’s, past, send...</td>\n",
       "      <td>[Action, Adventure, Crime]</td>\n",
       "      <td>[spy, based on novel, secret agent, sequel, mi...</td>\n",
       "    </tr>\n",
       "  </tbody>\n",
       "</table>\n",
       "</div>"
      ],
      "text/plain": [
       "       id                                     title  \\\n",
       "0   19995                                    Avatar   \n",
       "1     285  Pirates of the Caribbean: At World's End   \n",
       "2  206647                                   Spectre   \n",
       "\n",
       "                                            overview  \\\n",
       "0  [In, the, 22nd, century,, a, paraplegic, Marin...   \n",
       "1  [Captain, Barbossa,, long, believed, to, be, d...   \n",
       "2  [A, cryptic, message, from, Bond’s, past, send...   \n",
       "\n",
       "                                          genres  \\\n",
       "0  [Action, Adventure, Fantasy, Science Fiction]   \n",
       "1                   [Adventure, Fantasy, Action]   \n",
       "2                     [Action, Adventure, Crime]   \n",
       "\n",
       "                                            keywords  \n",
       "0  [culture clash, future, space war, space colon...  \n",
       "1  [ocean, drug abuse, exotic island, east india ...  \n",
       "2  [spy, based on novel, secret agent, sequel, mi...  "
      ]
     },
     "execution_count": 11,
     "metadata": {},
     "output_type": "execute_result"
    }
   ],
   "source": [
    "movies_copy.head(3)"
   ]
  },
  {
   "cell_type": "code",
   "execution_count": 12,
   "id": "d1628fe1",
   "metadata": {
    "id": "d1628fe1"
   },
   "outputs": [],
   "source": [
    "# Removes any spaces with in the 'genres' and 'keywords' features\n",
    "\n",
    "movies_copy['genres'] = movies_copy['genres'].apply(lambda x:[i.replace(\" \",\"\") for i in x])\n",
    "movies_copy['keywords'] = movies_copy['keywords'].apply(lambda x:[i.replace(\" \",\"\") for i in x])"
   ]
  },
  {
   "cell_type": "code",
   "execution_count": 13,
   "id": "fb78961a",
   "metadata": {
    "id": "fb78961a",
    "outputId": "a5d0c23d-a655-418a-e9a0-0b7e01b81efa"
   },
   "outputs": [
    {
     "data": {
      "text/html": [
       "<div>\n",
       "<style scoped>\n",
       "    .dataframe tbody tr th:only-of-type {\n",
       "        vertical-align: middle;\n",
       "    }\n",
       "\n",
       "    .dataframe tbody tr th {\n",
       "        vertical-align: top;\n",
       "    }\n",
       "\n",
       "    .dataframe thead th {\n",
       "        text-align: right;\n",
       "    }\n",
       "</style>\n",
       "<table border=\"1\" class=\"dataframe\">\n",
       "  <thead>\n",
       "    <tr style=\"text-align: right;\">\n",
       "      <th></th>\n",
       "      <th>id</th>\n",
       "      <th>title</th>\n",
       "      <th>overview</th>\n",
       "      <th>genres</th>\n",
       "      <th>keywords</th>\n",
       "    </tr>\n",
       "  </thead>\n",
       "  <tbody>\n",
       "    <tr>\n",
       "      <th>0</th>\n",
       "      <td>19995</td>\n",
       "      <td>Avatar</td>\n",
       "      <td>[In, the, 22nd, century,, a, paraplegic, Marin...</td>\n",
       "      <td>[Action, Adventure, Fantasy, ScienceFiction]</td>\n",
       "      <td>[cultureclash, future, spacewar, spacecolony, ...</td>\n",
       "    </tr>\n",
       "    <tr>\n",
       "      <th>1</th>\n",
       "      <td>285</td>\n",
       "      <td>Pirates of the Caribbean: At World's End</td>\n",
       "      <td>[Captain, Barbossa,, long, believed, to, be, d...</td>\n",
       "      <td>[Adventure, Fantasy, Action]</td>\n",
       "      <td>[ocean, drugabuse, exoticisland, eastindiatrad...</td>\n",
       "    </tr>\n",
       "    <tr>\n",
       "      <th>2</th>\n",
       "      <td>206647</td>\n",
       "      <td>Spectre</td>\n",
       "      <td>[A, cryptic, message, from, Bond’s, past, send...</td>\n",
       "      <td>[Action, Adventure, Crime]</td>\n",
       "      <td>[spy, basedonnovel, secretagent, sequel, mi6, ...</td>\n",
       "    </tr>\n",
       "  </tbody>\n",
       "</table>\n",
       "</div>"
      ],
      "text/plain": [
       "       id                                     title  \\\n",
       "0   19995                                    Avatar   \n",
       "1     285  Pirates of the Caribbean: At World's End   \n",
       "2  206647                                   Spectre   \n",
       "\n",
       "                                            overview  \\\n",
       "0  [In, the, 22nd, century,, a, paraplegic, Marin...   \n",
       "1  [Captain, Barbossa,, long, believed, to, be, d...   \n",
       "2  [A, cryptic, message, from, Bond’s, past, send...   \n",
       "\n",
       "                                         genres  \\\n",
       "0  [Action, Adventure, Fantasy, ScienceFiction]   \n",
       "1                  [Adventure, Fantasy, Action]   \n",
       "2                    [Action, Adventure, Crime]   \n",
       "\n",
       "                                            keywords  \n",
       "0  [cultureclash, future, spacewar, spacecolony, ...  \n",
       "1  [ocean, drugabuse, exoticisland, eastindiatrad...  \n",
       "2  [spy, basedonnovel, secretagent, sequel, mi6, ...  "
      ]
     },
     "execution_count": 13,
     "metadata": {},
     "output_type": "execute_result"
    }
   ],
   "source": [
    "movies_copy.head(3)"
   ]
  },
  {
   "cell_type": "code",
   "execution_count": 14,
   "id": "4d50b7bd",
   "metadata": {
    "id": "4d50b7bd"
   },
   "outputs": [],
   "source": [
    "# Concatenate and create a new feature called 'tags'\n",
    "\n",
    "movies_copy['tags'] = movies_copy['overview'] + movies_copy['genres'] + movies_copy['keywords']"
   ]
  },
  {
   "cell_type": "code",
   "execution_count": 15,
   "id": "0b003d3c",
   "metadata": {
    "id": "0b003d3c",
    "outputId": "712ea4c5-e4b0-40e0-d29f-4521dbd2455d"
   },
   "outputs": [
    {
     "data": {
      "text/html": [
       "<div>\n",
       "<style scoped>\n",
       "    .dataframe tbody tr th:only-of-type {\n",
       "        vertical-align: middle;\n",
       "    }\n",
       "\n",
       "    .dataframe tbody tr th {\n",
       "        vertical-align: top;\n",
       "    }\n",
       "\n",
       "    .dataframe thead th {\n",
       "        text-align: right;\n",
       "    }\n",
       "</style>\n",
       "<table border=\"1\" class=\"dataframe\">\n",
       "  <thead>\n",
       "    <tr style=\"text-align: right;\">\n",
       "      <th></th>\n",
       "      <th>id</th>\n",
       "      <th>title</th>\n",
       "      <th>overview</th>\n",
       "      <th>genres</th>\n",
       "      <th>keywords</th>\n",
       "      <th>tags</th>\n",
       "    </tr>\n",
       "  </thead>\n",
       "  <tbody>\n",
       "    <tr>\n",
       "      <th>0</th>\n",
       "      <td>19995</td>\n",
       "      <td>Avatar</td>\n",
       "      <td>[In, the, 22nd, century,, a, paraplegic, Marin...</td>\n",
       "      <td>[Action, Adventure, Fantasy, ScienceFiction]</td>\n",
       "      <td>[cultureclash, future, spacewar, spacecolony, ...</td>\n",
       "      <td>[In, the, 22nd, century,, a, paraplegic, Marin...</td>\n",
       "    </tr>\n",
       "    <tr>\n",
       "      <th>1</th>\n",
       "      <td>285</td>\n",
       "      <td>Pirates of the Caribbean: At World's End</td>\n",
       "      <td>[Captain, Barbossa,, long, believed, to, be, d...</td>\n",
       "      <td>[Adventure, Fantasy, Action]</td>\n",
       "      <td>[ocean, drugabuse, exoticisland, eastindiatrad...</td>\n",
       "      <td>[Captain, Barbossa,, long, believed, to, be, d...</td>\n",
       "    </tr>\n",
       "    <tr>\n",
       "      <th>2</th>\n",
       "      <td>206647</td>\n",
       "      <td>Spectre</td>\n",
       "      <td>[A, cryptic, message, from, Bond’s, past, send...</td>\n",
       "      <td>[Action, Adventure, Crime]</td>\n",
       "      <td>[spy, basedonnovel, secretagent, sequel, mi6, ...</td>\n",
       "      <td>[A, cryptic, message, from, Bond’s, past, send...</td>\n",
       "    </tr>\n",
       "  </tbody>\n",
       "</table>\n",
       "</div>"
      ],
      "text/plain": [
       "       id                                     title  \\\n",
       "0   19995                                    Avatar   \n",
       "1     285  Pirates of the Caribbean: At World's End   \n",
       "2  206647                                   Spectre   \n",
       "\n",
       "                                            overview  \\\n",
       "0  [In, the, 22nd, century,, a, paraplegic, Marin...   \n",
       "1  [Captain, Barbossa,, long, believed, to, be, d...   \n",
       "2  [A, cryptic, message, from, Bond’s, past, send...   \n",
       "\n",
       "                                         genres  \\\n",
       "0  [Action, Adventure, Fantasy, ScienceFiction]   \n",
       "1                  [Adventure, Fantasy, Action]   \n",
       "2                    [Action, Adventure, Crime]   \n",
       "\n",
       "                                            keywords  \\\n",
       "0  [cultureclash, future, spacewar, spacecolony, ...   \n",
       "1  [ocean, drugabuse, exoticisland, eastindiatrad...   \n",
       "2  [spy, basedonnovel, secretagent, sequel, mi6, ...   \n",
       "\n",
       "                                                tags  \n",
       "0  [In, the, 22nd, century,, a, paraplegic, Marin...  \n",
       "1  [Captain, Barbossa,, long, believed, to, be, d...  \n",
       "2  [A, cryptic, message, from, Bond’s, past, send...  "
      ]
     },
     "execution_count": 15,
     "metadata": {},
     "output_type": "execute_result"
    }
   ],
   "source": [
    "movies_copy.head(3)"
   ]
  },
  {
   "cell_type": "code",
   "execution_count": 16,
   "id": "e1e19941",
   "metadata": {
    "id": "e1e19941"
   },
   "outputs": [],
   "source": [
    "# Create a new dataframe to store the features\n",
    "new_df = movies_copy[['id', 'title', 'tags']].copy()\n",
    "\n",
    "# Create a string containing all the tags separated by space\n",
    "new_df['tags'] = new_df['tags'].apply(lambda x: \" \".join(x))"
   ]
  },
  {
   "cell_type": "code",
   "execution_count": 17,
   "id": "c143c03a",
   "metadata": {
    "id": "c143c03a",
    "outputId": "512952f8-7f13-4537-eca3-c36d11d6cbb9"
   },
   "outputs": [
    {
     "data": {
      "text/html": [
       "<div>\n",
       "<style scoped>\n",
       "    .dataframe tbody tr th:only-of-type {\n",
       "        vertical-align: middle;\n",
       "    }\n",
       "\n",
       "    .dataframe tbody tr th {\n",
       "        vertical-align: top;\n",
       "    }\n",
       "\n",
       "    .dataframe thead th {\n",
       "        text-align: right;\n",
       "    }\n",
       "</style>\n",
       "<table border=\"1\" class=\"dataframe\">\n",
       "  <thead>\n",
       "    <tr style=\"text-align: right;\">\n",
       "      <th></th>\n",
       "      <th>id</th>\n",
       "      <th>title</th>\n",
       "      <th>tags</th>\n",
       "    </tr>\n",
       "  </thead>\n",
       "  <tbody>\n",
       "    <tr>\n",
       "      <th>0</th>\n",
       "      <td>19995</td>\n",
       "      <td>Avatar</td>\n",
       "      <td>In the 22nd century, a paraplegic Marine is di...</td>\n",
       "    </tr>\n",
       "    <tr>\n",
       "      <th>1</th>\n",
       "      <td>285</td>\n",
       "      <td>Pirates of the Caribbean: At World's End</td>\n",
       "      <td>Captain Barbossa, long believed to be dead, ha...</td>\n",
       "    </tr>\n",
       "    <tr>\n",
       "      <th>2</th>\n",
       "      <td>206647</td>\n",
       "      <td>Spectre</td>\n",
       "      <td>A cryptic message from Bond’s past sends him o...</td>\n",
       "    </tr>\n",
       "  </tbody>\n",
       "</table>\n",
       "</div>"
      ],
      "text/plain": [
       "       id                                     title  \\\n",
       "0   19995                                    Avatar   \n",
       "1     285  Pirates of the Caribbean: At World's End   \n",
       "2  206647                                   Spectre   \n",
       "\n",
       "                                                tags  \n",
       "0  In the 22nd century, a paraplegic Marine is di...  \n",
       "1  Captain Barbossa, long believed to be dead, ha...  \n",
       "2  A cryptic message from Bond’s past sends him o...  "
      ]
     },
     "execution_count": 17,
     "metadata": {},
     "output_type": "execute_result"
    }
   ],
   "source": [
    "# Show top 3 records\n",
    "new_df.head(3)"
   ]
  },
  {
   "cell_type": "markdown",
   "id": "917699a1",
   "metadata": {
    "id": "917699a1"
   },
   "source": [
    "# BERT"
   ]
  },
  {
   "cell_type": "code",
   "execution_count": 18,
   "id": "58f04e3b",
   "metadata": {
    "id": "58f04e3b",
    "outputId": "db44109e-39f6-4927-b06d-2cb8a0fea5ec"
   },
   "outputs": [
    {
     "name": "stdout",
     "output_type": "stream",
     "text": [
      "Enter the name of a movie: Dar Knight\n"
     ]
    },
    {
     "name": "stderr",
     "output_type": "stream",
     "text": [
      "Some weights of the model checkpoint at bert-base-uncased were not used when initializing BertModel: ['cls.predictions.bias', 'cls.predictions.transform.LayerNorm.weight', 'cls.predictions.transform.LayerNorm.bias', 'cls.predictions.decoder.weight', 'cls.seq_relationship.bias', 'cls.predictions.transform.dense.weight', 'cls.seq_relationship.weight', 'cls.predictions.transform.dense.bias']\n",
      "- This IS expected if you are initializing BertModel from the checkpoint of a model trained on another task or with another architecture (e.g. initializing a BertForSequenceClassification model from a BertForPreTraining model).\n",
      "- This IS NOT expected if you are initializing BertModel from the checkpoint of a model that you expect to be exactly identical (initializing a BertForSequenceClassification model from a BertForSequenceClassification model).\n"
     ]
    },
    {
     "name": "stdout",
     "output_type": "stream",
     "text": [
      "Minimum Similarity: 0.2116\n",
      "Maximum Similarity: 0.4650\n",
      "Execution time: 9.114442110061646 seconds\n",
      "Recommended Movies for 'Dar Knight':\n",
      "     Rush Hour 3 (Similarity score = 0.4650)\n",
      "     Monsters University (Similarity score = 0.4537)\n",
      "     The Golden Compass (Similarity score = 0.4279)\n",
      "     Jupiter Ascending (Similarity score = 0.4265)\n",
      "     Furious 7 (Similarity score = 0.4261)\n",
      "     The Jungle Book (Similarity score = 0.4249)\n",
      "     Prince of Persia: The Sands of Time (Similarity score = 0.4245)\n",
      "     Star Trek Beyond (Similarity score = 0.4208)\n",
      "     Cars 2 (Similarity score = 0.4201)\n",
      "     Pirates of the Caribbean: At World's End (Similarity score = 0.4114)\n"
     ]
    }
   ],
   "source": [
    "# using the Hugging Face transformers library along with a\n",
    "# pre-trained BERT model to recommend movies based on their titles, overview, genres, keywords\n",
    "\n",
    "from transformers import BertTokenizer, BertModel\n",
    "import torch\n",
    "from sklearn.metrics.pairwise import cosine_similarity\n",
    "import time\n",
    "\n",
    "# Combine 'title' and 'tags' columns\n",
    "combined_text = new_df['title'].head(100) + ' ' + new_df['tags'].head(100)\n",
    "#.head(100)\n",
    "\n",
    "# User input for the movie name\n",
    "user_movie_name = input(\"Enter the name of a movie: \")\n",
    "\n",
    "# Record the start time\n",
    "start_time = time.time()\n",
    "\n",
    "# Load pre-trained BERT tokenizer and model\n",
    "tokenizer = BertTokenizer.from_pretrained('bert-base-uncased')\n",
    "model = BertModel.from_pretrained('bert-base-uncased')\n",
    "\n",
    "# Tokenize movie titles and tags\n",
    "movie_tokens = tokenizer(combined_text.tolist(), return_tensors='pt', padding=True, truncation=True)\n",
    "user_tokens = tokenizer(user_movie_name, return_tensors='pt')\n",
    "\n",
    "# Get BERT embeddings for movies and user input\n",
    "\n",
    "# Disables gradient calculation for efficiency\n",
    "with torch.no_grad():\n",
    "    # Obtains BERT embeddings for the movie titles and tags by taking the\n",
    "    # mean along the sequence length dimension\n",
    "    movie_embeddings = model(**movie_tokens).last_hidden_state.mean(dim=1)\n",
    "    user_embedding = model(**user_tokens).last_hidden_state.mean(dim=1)\n",
    "\n",
    "# Calculates the cosine similarity between the user input embedding and each movie embedding\n",
    "similarities = cosine_similarity(user_embedding, movie_embeddings).flatten()\n",
    "\n",
    "#  Sorts the movies based on their cosine similarity to the user input in descending order\n",
    "ranked_movies = sorted(enumerate(similarities), key=lambda x: x[1], reverse=True)\n",
    "# Display min and max values\n",
    "min_similarity = min(ranked_movies, key=lambda x: x[1])\n",
    "max_similarity = max(ranked_movies, key=lambda x: x[1])\n",
    "\n",
    "print(f\"Minimum Similarity: {min_similarity[1]:.4f}\")\n",
    "print(f\"Maximum Similarity: {max_similarity[1]:.4f}\")\n",
    "\n",
    "# Extract the top 10 movies\n",
    "top_10_indices = [movie_index for movie_index, similarity in ranked_movies[:10]]\n",
    "\n",
    "# Record the end time\n",
    "end_time = time.time()\n",
    "\n",
    "# Calculate the elapsed time\n",
    "elapsed_time = end_time - start_time\n",
    "\n",
    "print(f\"Execution time: {elapsed_time} seconds\")\n",
    "\n",
    "#  Print recommended movies\n",
    "print(f\"Recommended Movies for '{user_movie_name}':\")\n",
    "for i, movie_index in enumerate(top_10_indices):\n",
    "    similarity_score = ranked_movies[i][1]\n",
    "    print(f\"     {new_df['title'][movie_index]} (Similarity score = {similarity_score:.4f})\")"
   ]
  },
  {
   "cell_type": "markdown",
   "id": "39bfa8c2",
   "metadata": {
    "id": "39bfa8c2"
   },
   "source": [
    "# FEATURE EXTRACTION FOR WEB"
   ]
  },
  {
   "cell_type": "code",
   "execution_count": 19,
   "id": "f66def78",
   "metadata": {
    "id": "f66def78"
   },
   "outputs": [],
   "source": [
    "# Convert to lowercase\n",
    "new_df['tags'] = new_df['tags'].apply(lambda x:x.lower())"
   ]
  },
  {
   "cell_type": "code",
   "execution_count": 20,
   "id": "a60211db",
   "metadata": {
    "id": "a60211db",
    "outputId": "51c8834a-7791-4be0-8e45-fa0a36b05469"
   },
   "outputs": [
    {
     "data": {
      "text/plain": [
       "\"captain barbossa, long believed to be dead, has come back to life and is headed to the edge of the earth with will turner and elizabeth swann. but nothing is quite as it seems. adventure fantasy action ocean drugabuse exoticisland eastindiatradingcompany loveofone'slife traitor shipwreck strongwoman ship alliance calypso afterlife fighter pirate swashbuckler aftercreditsstinger\""
      ]
     },
     "execution_count": 20,
     "metadata": {},
     "output_type": "execute_result"
    }
   ],
   "source": [
    "# Show the complete 'tags'\n",
    "new_df['tags'][1]"
   ]
  },
  {
   "cell_type": "code",
   "execution_count": 21,
   "id": "9b00fa25",
   "metadata": {
    "id": "9b00fa25"
   },
   "outputs": [],
   "source": [
    "ps = PorterStemmer()"
   ]
  },
  {
   "cell_type": "code",
   "execution_count": 22,
   "id": "9d617d45",
   "metadata": {
    "id": "9d617d45"
   },
   "outputs": [],
   "source": [
    "# function that takes a text input, splits it into individual words,\n",
    "# applies stemming using the PorterStemmer (ps), and\n",
    "# then joins the stemmed words back into a single string\n",
    "def stem(text):\n",
    "    y = []\n",
    "    for i in text.split():\n",
    "        y.append(ps.stem(i))\n",
    "    return \" \".join(y)"
   ]
  },
  {
   "cell_type": "code",
   "execution_count": 23,
   "id": "f3103c43",
   "metadata": {
    "id": "f3103c43"
   },
   "outputs": [],
   "source": [
    "new_df['tags'] = new_df['tags'].apply(stem)"
   ]
  },
  {
   "cell_type": "markdown",
   "id": "60fa3bc1",
   "metadata": {
    "id": "60fa3bc1"
   },
   "source": [
    "Example of how the function works:\n",
    "\n",
    "stemmed_text = stem(\"running in the park and playing\")\n",
    "print(stemmed_text)\n",
    "run in the park and play"
   ]
  },
  {
   "cell_type": "code",
   "execution_count": 24,
   "id": "5e42b928",
   "metadata": {
    "id": "5e42b928",
    "outputId": "9c66d734-9298-4712-890d-23d91f421fd5"
   },
   "outputs": [
    {
     "data": {
      "text/plain": [
       "\"captain barbossa, long believ to be dead, ha come back to life and is head to the edg of the earth with will turner and elizabeth swann. but noth is quit as it seems. adventur fantasi action ocean drugabus exoticisland eastindiatradingcompani loveofone'slif traitor shipwreck strongwoman ship allianc calypso afterlif fighter pirat swashbuckl aftercreditssting\""
      ]
     },
     "execution_count": 24,
     "metadata": {},
     "output_type": "execute_result"
    }
   ],
   "source": [
    "# Show the complete 'tags'\n",
    "new_df['tags'][1]"
   ]
  },
  {
   "cell_type": "code",
   "execution_count": 25,
   "id": "a1fc7b76",
   "metadata": {
    "id": "a1fc7b76",
    "outputId": "027dbe40-7578-4bb7-cf1b-670b95ad5d7e"
   },
   "outputs": [
    {
     "data": {
      "text/plain": [
       "array([[0, 0, 0, ..., 0, 0, 0],\n",
       "       [0, 0, 0, ..., 0, 0, 0],\n",
       "       [0, 0, 0, ..., 0, 0, 0],\n",
       "       ...,\n",
       "       [0, 0, 0, ..., 0, 0, 0],\n",
       "       [0, 0, 0, ..., 0, 0, 0],\n",
       "       [0, 0, 0, ..., 0, 0, 0]])"
      ]
     },
     "execution_count": 25,
     "metadata": {},
     "output_type": "execute_result"
    }
   ],
   "source": [
    "# Using 'CountVectorizer' to convert 'tags' column into a bag-of-words representation\n",
    "# The max_features parameter limits the number of features (words)\n",
    "# to the top 5000 by frequency, and stop_words='english' removes\n",
    "# common English stop words (like \"and\", \"the\", etc.)\n",
    "cv = CountVectorizer(max_features = 5000,stop_words='english')\n",
    "\n",
    "# Apply the vectorizer to the 'tags' column\n",
    "# to first convert to bag of words and then convert to an array\n",
    "vectors = cv.fit_transform(new_df['tags']).toarray()\n",
    "\n",
    "# Print values\n",
    "vectors"
   ]
  },
  {
   "cell_type": "code",
   "execution_count": 26,
   "id": "8088dc77",
   "metadata": {
    "id": "8088dc77",
    "outputId": "ced24486-42b0-4cbf-fbd1-823b7b354578"
   },
   "outputs": [
    {
     "data": {
      "text/plain": [
       "array(['000', '007', '10', ..., 'zombies', 'zone', 'zoo'], dtype=object)"
      ]
     },
     "execution_count": 26,
     "metadata": {},
     "output_type": "execute_result"
    }
   ],
   "source": [
    "# returns the feature names (unique words) that\n",
    "# correspond to the columns in the bag-of-words matrix\n",
    "cv.get_feature_names_out()"
   ]
  },
  {
   "cell_type": "code",
   "execution_count": 27,
   "id": "1d5e43b7",
   "metadata": {
    "id": "1d5e43b7",
    "outputId": "df0d4883-37d2-4a86-d380-754c7f73a5db"
   },
   "outputs": [
    {
     "data": {
      "text/plain": [
       "(4800, 4800)"
      ]
     },
     "execution_count": 27,
     "metadata": {},
     "output_type": "execute_result"
    }
   ],
   "source": [
    "# Compute the pairwise cosine similarity between the rows (documents) of the bag-of-words matrix\n",
    "from sklearn.metrics.pairwise import cosine_similarity\n",
    "\n",
    "# Tuple representing the shape of the matrix, where the first element\n",
    "# is the number of rows and the second element is the number of columns\n",
    "cosine_similarity(vectors).shape"
   ]
  },
  {
   "cell_type": "code",
   "execution_count": 28,
   "id": "48f052c2",
   "metadata": {
    "id": "48f052c2",
    "outputId": "ca147ac6-378e-4794-ec55-fd3bd6c8cfb2"
   },
   "outputs": [
    {
     "data": {
      "text/plain": [
       "array([[1.        , 0.09128709, 0.09128709, ..., 0.04622502, 0.        ,\n",
       "        0.        ],\n",
       "       [0.09128709, 1.        , 0.06666667, ..., 0.02531848, 0.        ,\n",
       "        0.02817181],\n",
       "       [0.09128709, 0.06666667, 1.        , ..., 0.02531848, 0.        ,\n",
       "        0.        ],\n",
       "       ...,\n",
       "       [0.04622502, 0.02531848, 0.02531848, ..., 1.        , 0.03962144,\n",
       "        0.04279605],\n",
       "       [0.        , 0.        , 0.        , ..., 0.03962144, 1.        ,\n",
       "        0.08817334],\n",
       "       [0.        , 0.02817181, 0.        , ..., 0.04279605, 0.08817334,\n",
       "        1.        ]])"
      ]
     },
     "execution_count": 28,
     "metadata": {},
     "output_type": "execute_result"
    }
   ],
   "source": [
    "# Compute cosine similarity\n",
    "similarity = cosine_similarity(vectors)\n",
    "\n",
    "similarity"
   ]
  },
  {
   "cell_type": "code",
   "execution_count": 29,
   "id": "722b0f16",
   "metadata": {
    "id": "722b0f16",
    "outputId": "dda46111-1ba9-4ca4-f14a-a1aafc696d83"
   },
   "outputs": [
    {
     "data": {
      "text/plain": [
       "[(1213, 0.281271975231506),\n",
       " (539, 0.26940795304016235),\n",
       " (3723, 0.2676516895156553),\n",
       " (507, 0.2672612419124244),\n",
       " (61, 0.2545875386086578),\n",
       " (582, 0.25423758993656337),\n",
       " (2403, 0.251259453814803),\n",
       " (1191, 0.24873416908154544),\n",
       " (1201, 0.2457365935914952)]"
      ]
     },
     "execution_count": 29,
     "metadata": {},
     "output_type": "execute_result"
    }
   ],
   "source": [
    "# The enumerate function to associate each element in the similarity[0] iterable\n",
    "# with its index. Then, it's creating a list of tuples where each tuple contains\n",
    "# an index and the corresponding similarity value. Finally, it's sorting this list\n",
    "# of tuples based on the similarity values in descending order and selecting the\n",
    "# top 5 indices (excluding the first index, which is the similarity of the document to itself).\n",
    "sorted(list(enumerate(similarity[0])), reverse=True,key=lambda x:x[1])[1:10]"
   ]
  },
  {
   "cell_type": "markdown",
   "id": "fe9ff340",
   "metadata": {
    "id": "fe9ff340"
   },
   "source": [
    "## Testing"
   ]
  },
  {
   "cell_type": "code",
   "execution_count": 30,
   "id": "26de0d82",
   "metadata": {
    "id": "26de0d82"
   },
   "outputs": [],
   "source": [
    "def recommend(movie):\n",
    "    try:\n",
    "        movie_index = new_df[new_df['title'] == movie].index[0]\n",
    "        distance = similarity[movie_index]\n",
    "        movies_list = sorted(list(enumerate(distance)), reverse=True, key=lambda x: x[1])\n",
    "        movies_list = movies_list[1:20]\n",
    "\n",
    "        if not movies_list:\n",
    "            print(\"No similar movies found.\")\n",
    "        else:\n",
    "            print(\"Recommended Movies:\")\n",
    "            for i in movies_list:\n",
    "                print(new_df.iloc[i[0]].title)\n",
    "    except IndexError:\n",
    "        print(\"Movie not found in the dataset.\")"
   ]
  },
  {
   "cell_type": "code",
   "execution_count": 31,
   "id": "c2200087",
   "metadata": {
    "id": "c2200087",
    "outputId": "4514bc42-5b49-4ea7-e4d1-c32fe6e87431"
   },
   "outputs": [
    {
     "name": "stdout",
     "output_type": "stream",
     "text": [
      "Recommended Movies:\n",
      "The Dark Knight Rises\n",
      "Batman Begins\n",
      "Batman Returns\n",
      "Batman Forever\n",
      "Batman\n",
      "Batman & Robin\n",
      "Batman v Superman: Dawn of Justice\n",
      "Gangster's Paradise: Jerusalema\n",
      "Amidst the Devil's Wings\n",
      "Blood Ties\n",
      "Batman: The Dark Knight Returns, Part 2\n",
      "Trash\n",
      "Easy Money\n",
      "Law Abiding Citizen\n",
      "The Usual Suspects\n",
      "The Perfect Host\n",
      "Sexy Beast\n",
      "Harsh Times\n",
      "Sherlock Holmes: A Game of Shadows\n"
     ]
    }
   ],
   "source": [
    "recommend('The Dark Knight')"
   ]
  },
  {
   "cell_type": "code",
   "execution_count": 32,
   "id": "78931393",
   "metadata": {},
   "outputs": [
    {
     "ename": "NameError",
     "evalue": "name 'joblib' is not defined",
     "output_type": "error",
     "traceback": [
      "\u001b[0;31m---------------------------------------------------------------------------\u001b[0m",
      "\u001b[0;31mNameError\u001b[0m                                 Traceback (most recent call last)",
      "Cell \u001b[0;32mIn[32], line 2\u001b[0m\n\u001b[1;32m      1\u001b[0m \u001b[38;5;66;03m# Save the model\u001b[39;00m\n\u001b[0;32m----> 2\u001b[0m joblib\u001b[38;5;241m.\u001b[39mdump(recommend, \u001b[38;5;124m\"\u001b[39m\u001b[38;5;124mmodelRecommend.joblib\u001b[39m\u001b[38;5;124m\"\u001b[39m)\n",
      "\u001b[0;31mNameError\u001b[0m: name 'joblib' is not defined"
     ]
    }
   ],
   "source": [
    "# Save the model\n",
    "joblib.dump(recommend, \"modelRecommend.joblib\")"
   ]
  },
  {
   "cell_type": "code",
   "execution_count": null,
   "id": "72244d52",
   "metadata": {},
   "outputs": [],
   "source": [
    "import pickle\n",
    "\n",
    "pickle.dump(new_df, open('movies_list.pkl', 'wb'))\n",
    "pickle.dump(similarity, open('similarity.pkl', 'wb'))\n",
    "pickle.load(open('movies_list.pkl', 'rb'))"
   ]
  },
  {
   "cell_type": "code",
   "execution_count": null,
   "id": "11165ae0",
   "metadata": {
    "id": "11165ae0",
    "outputId": "f5138a70-8a4d-44ad-942b-d7b695e29df5"
   },
   "outputs": [],
   "source": [
    "from sklearn.feature_extraction.text import CountVectorizer\n",
    "from sklearn.metrics.pairwise import cosine_similarity\n",
    "\n",
    "# Assuming 'new_df' is your DataFrame with the 'tags' and 'title' columns\n",
    "\n",
    "# Using 'CountVectorizer' to convert 'tags' column into a bag-of-words representation\n",
    "cv = CountVectorizer(max_features=5000, stop_words='english')\n",
    "\n",
    "# Apply the vectorizer to the 'tags' column\n",
    "vectors = cv.fit_transform(new_df['tags']).toarray()\n",
    "\n",
    "# Compute cosine similarity\n",
    "similarity = cosine_similarity(vectors)\n",
    "\n",
    "def recommend(movie):\n",
    "    try:\n",
    "        movie_index = new_df[new_df['title'] == movie].index[0]\n",
    "        distance = similarity[movie_index]\n",
    "        movies_list = sorted(list(enumerate(distance)), reverse=True, key=lambda x: x[1])\n",
    "        movies_list = movies_list[1:20]\n",
    "\n",
    "        if not movies_list:\n",
    "            print(\"No similar movies found.\")\n",
    "        else:\n",
    "            print(\"Recommended Movies:\")\n",
    "            for i in movies_list:\n",
    "                title = new_df.iloc[i[0]].title\n",
    "                score = i[1]\n",
    "                print(f\"{title} (Similarity Score: {score:.4f})\")\n",
    "\n",
    "    except IndexError:\n",
    "        print(\"Movie not found in the dataset.\")\n",
    "\n",
    "# Example: Get recommendations for a movie\n",
    "recommend(\"The Dark Knight\")"
   ]
  },
  {
   "cell_type": "markdown",
   "id": "0d430260",
   "metadata": {
    "id": "0d430260"
   },
   "source": [
    "Future workings:\n",
    "1. Not text sensitive, can type with % and should show results\n",
    "2. Create similar process for the TV shows across multiple subscribers."
   ]
  },
  {
   "cell_type": "markdown",
   "id": "51ecb440",
   "metadata": {
    "id": "51ecb440"
   },
   "source": [
    "# TF-IDF"
   ]
  },
  {
   "cell_type": "code",
   "execution_count": null,
   "id": "183778e3",
   "metadata": {
    "id": "183778e3",
    "outputId": "20367b1d-8eba-4a4e-aa7b-491f2c8b3df5"
   },
   "outputs": [],
   "source": [
    "import pandas as pd\n",
    "from sklearn.feature_extraction.text import TfidfVectorizer\n",
    "from sklearn.metrics.pairwise import cosine_similarity\n",
    "\n",
    "# Load the TMDB 5000 Movie Dataset\n",
    "movies_df = pd.read_csv('tmdb_5000_movies.csv')\n",
    "\n",
    "# Example: Concatenate relevant text features (title, genres, and overview)\n",
    "movies_df['combined_features'] = movies_df['title'] + ' ' + movies_df['genres'] + ' ' + movies_df['overview'].fillna('')\n",
    "\n",
    "# Record the start time\n",
    "start_time = time.time()\n",
    "\n",
    "# Create a TF-IDF vectorizer\n",
    "vectorizer = TfidfVectorizer(stop_words='english')\n",
    "tfidf_matrix = vectorizer.fit_transform(movies_df['combined_features'])\n",
    "\n",
    "# Compute cosine similarity\n",
    "cosine_sim = cosine_similarity(tfidf_matrix, tfidf_matrix)\n",
    "\n",
    "# Record the end time\n",
    "end_time = time.time()\n",
    "\n",
    "# Calculate the elapsed time\n",
    "elapsed_time = end_time - start_time\n",
    "\n",
    "import time\n",
    "\n",
    "# Function to get movie recommendations based on cosine similarity\n",
    "def get_recommendations(movie_title):\n",
    "    try:\n",
    "        start_time = time.time()\n",
    "\n",
    "        movie_index = movies_df.index[movies_df['title'] == movie_title].tolist()[0]\n",
    "        sim_scores = list(enumerate(cosine_sim[movie_index]))\n",
    "        sim_scores = sorted(sim_scores, key=lambda x: x[1], reverse=True)[1:20]\n",
    "        movie_indices = [i[0] for i in sim_scores]\n",
    "        recommended_movies = movies_df[['title', 'genres']].iloc[movie_indices]\n",
    "        recommended_movies['score'] = [score[1] for score in sim_scores]\n",
    "\n",
    "        end_time = time.time()\n",
    "        print(f\"Execution time: {end_time - start_time} seconds\")\n",
    "\n",
    "        return recommended_movies\n",
    "    except IndexError:\n",
    "        print(\"Movie not found in the dataset.\")\n",
    "        return None\n",
    "\n",
    "# Example: Get recommendations for a movie\n",
    "movie_title = 'The Dark Knight'\n",
    "recommendations = get_recommendations(movie_title)\n",
    "\n",
    "if recommendations is not None:\n",
    "    print(f\"Recommendations for {movie_title}:\\n{recommendations[['title', 'score']]}\")"
   ]
  },
  {
   "cell_type": "code",
   "execution_count": null,
   "id": "d11cc837",
   "metadata": {
    "id": "d11cc837"
   },
   "outputs": [],
   "source": []
  }
 ],
 "metadata": {
  "colab": {
   "provenance": []
  },
  "kernelspec": {
   "display_name": "Python 3 (ipykernel)",
   "language": "python",
   "name": "python3"
  },
  "language_info": {
   "codemirror_mode": {
    "name": "ipython",
    "version": 3
   },
   "file_extension": ".py",
   "mimetype": "text/x-python",
   "name": "python",
   "nbconvert_exporter": "python",
   "pygments_lexer": "ipython3",
   "version": "3.11.4"
  }
 },
 "nbformat": 4,
 "nbformat_minor": 5
}
